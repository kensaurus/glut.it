{
 "cells": [
  {
   "cell_type": "code",
   "execution_count": 284,
   "metadata": {},
   "outputs": [],
   "source": [
    "# Libraries\n",
    "from selenium import webdriver\n",
    "from selenium.webdriver.firefox.options import Options\n",
    "import pandas as pd\n",
    "from time import sleep\n",
    "\n",
    "# Selenium Webdriver\n",
    "options = Options()\n",
    "options.headless = True\n",
    "assert options.headless\n",
    "driver = webdriver.Firefox(options=options)"
   ]
  },
  {
   "cell_type": "code",
   "execution_count": 303,
   "metadata": {},
   "outputs": [
    {
     "name": "stdout",
     "output_type": "stream",
     "text": [
      "Following:  2003\n"
     ]
    }
   ],
   "source": [
    "# Returns number of following users\n",
    "SC_USERNAME = 'glut_it'\n",
    "driver.get('https://soundcloud.com/' + SC_USERNAME)\n",
    "\n",
    "following = driver.find_element_by_xpath(\"//*[starts-with(@class,'infoStats__stat')]//*[text()='Following']//following::div\")\n",
    "\n",
    "# Convert followers from string to integer\n",
    "if following is not None:\n",
    "    following = int(re.sub(\"\\D\", \"\", following.text))\n",
    "    print(\"Following: \", following)\n",
    "else:\n",
    "    raise Exception(\"No Followers Found!\")"
   ]
  },
  {
   "cell_type": "code",
   "execution_count": 292,
   "metadata": {},
   "outputs": [
    {
     "name": "stdout",
     "output_type": "stream",
     "text": [
      "Retrieved:  151\n"
     ]
    }
   ],
   "source": [
    "# Scroll to the end for infinite dynamic scrolling\n",
    "SCROLL_PAUSE_TIME = 0.5\n",
    "FACTOR = 0.9\n",
    "driver.get('https://soundcloud.com/' + SC_USERNAME + '/following')\n",
    "\n",
    "from IPython.display import display, clear_output\n",
    "\n",
    "# Get scroll height\n",
    "last_height = driver.execute_script(\"return document.body.scrollHeight\")\n",
    "# Loop if new scroll height is not equal to current scroll height\n",
    "while True:\n",
    "    # Display count of loaded profiles\n",
    "    clear_output(wait = True)\n",
    "    print(\"Retrieved: \", len(driver.find_elements_by_xpath(\"//div[@class='userBadgeListItem']\")))\n",
    "    # Scroll down to bottom\n",
    "    driver.execute_script(\"window.scrollTo(0, document.body.scrollHeight);\")\n",
    "    # Wait to load page\n",
    "    sleep(SCROLL_PAUSE_TIME)\n",
    "    # Calculate new scroll height and compare with last scroll height\n",
    "    new_height = driver.execute_script(\"return document.body.scrollHeight\")\n",
    "    if (new_height == last_height) and (len(driver.find_elements_by_xpath(\"//div[@class='userBadgeListItem']\")) > (FACTOR * following)):\n",
    "        break\n",
    "    last_height = new_height"
   ]
  },
  {
   "cell_type": "code",
   "execution_count": 293,
   "metadata": {
    "scrolled": true
   },
   "outputs": [
    {
     "name": "stdout",
     "output_type": "stream",
     "text": [
      "155 151 151\n"
     ]
    }
   ],
   "source": [
    "# Returns webdriver elements for required info\n",
    "profile = driver.find_elements_by_xpath(\"//div[@class='userNetwork']//a[starts-with(@class,'userBadgeListItem__heading')]\")\n",
    "image = driver.find_elements_by_xpath(\"//div[@class='userNetwork']//span[starts-with(@class,'sc-artwork')]\")\n",
    "print(following, len(profile),len(image))"
   ]
  },
  {
   "cell_type": "code",
   "execution_count": 301,
   "metadata": {},
   "outputs": [],
   "source": [
    "# Returns dataframe from webdriver with text info\n",
    "temp1, temp2, temp3 = [], [], []\n",
    "\n",
    "# Returns html for profile thumbnail\n",
    "for x in range(len(image)):\n",
    "    # Error check if there is thumbnail\n",
    "    if 'url' in image[x].get_attribute('style'):\n",
    "        temp1.append((image[x].get_attribute('style')).split('\"')[1])\n",
    "    else:\n",
    "        temp1.append(None)\n",
    "# Returns username and profile html    \n",
    "for x in range(len(profile)):\n",
    "    temp2.append(profile[x].text)\n",
    "    temp3.append(profile[x].get_attribute('href'))\n",
    "# Convert list to DataFrame    \n",
    "df = (pd.DataFrame({'image-url':temp1, 'username':temp2, 'profile':temp3}))\n",
    "# Export to CSV\n",
    "df.to_csv('automation '+SC_USERNAME+' following.csv', index=False, header=False)#, mode='a')"
   ]
  },
  {
   "cell_type": "code",
   "execution_count": 281,
   "metadata": {},
   "outputs": [],
   "source": [
    "from IPython.display import Image\n",
    "Image(\"https://i1.sndcdn.com/avatars-000395181261-hfn1rr-t200x200.jpg\")"
   ]
  },
  {
   "cell_type": "code",
   "execution_count": 282,
   "metadata": {},
   "outputs": [],
   "source": [
    "# Close the webdriver session\n",
    "driver.close()"
   ]
  }
 ],
 "metadata": {
  "kernelspec": {
   "display_name": "Python 3",
   "language": "python",
   "name": "python3"
  },
  "language_info": {
   "codemirror_mode": {
    "name": "ipython",
    "version": 3
   },
   "file_extension": ".py",
   "mimetype": "text/x-python",
   "name": "python",
   "nbconvert_exporter": "python",
   "pygments_lexer": "ipython3",
   "version": "3.6.6"
  }
 },
 "nbformat": 4,
 "nbformat_minor": 2
}
