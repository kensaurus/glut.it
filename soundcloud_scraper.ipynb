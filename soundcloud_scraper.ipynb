{
 "cells": [
  {
   "cell_type": "code",
   "execution_count": 22,
   "metadata": {},
   "outputs": [],
   "source": [
    "'''\n",
    "Name: soundcloud_scraper.ipynb\n",
    "Created: 2018.11.12\n",
    "Author: Kenji Sakuramoto\n",
    "Purpose: Scraping data from SoundCloud - Followers, Likes, Thumbnails, Plays, etc.\n",
    "Version: 1.0\n",
    "'''\n",
    "# Libraries\n",
    "from selenium import webdriver\n",
    "from selenium.webdriver.firefox.options import Options\n",
    "import urllib.request\n",
    "import pandas as pd\n",
    "from time import sleep, strftime\n",
    "from IPython.display import display, clear_output, Image\n",
    "import os, errno, re\n",
    "\n",
    "# Selenium Webdriver\n",
    "options = Options()\n",
    "# options.headless = True\n",
    "# assert options.headless\n",
    "driver = webdriver.Firefox(options=options)"
   ]
  },
  {
   "cell_type": "code",
   "execution_count": 63,
   "metadata": {},
   "outputs": [
    {
     "data": {
      "text/plain": [
       "'https://i1.sndcdn.com/avatars-000226021681-kmi65d-t200x200.jpg'"
      ]
     },
     "execution_count": 63,
     "metadata": {},
     "output_type": "execute_result"
    }
   ],
   "source": [
    "driver.find_element_by_xpath(\"//*[starts-with(@class,'profileHeader') and contains(@class, 'userName')]\").text\n",
    "image = driver.find_element_by_xpath(\"//*[starts-with(@class,'profileHeader')]//span[starts-with(@class,'sc-artwork')]\")\n",
    "image.get_attribute('style').split('\"')[1]"
   ]
  },
  {
   "cell_type": "code",
   "execution_count": 49,
   "metadata": {},
   "outputs": [
    {
     "name": "stdout",
     "output_type": "stream",
     "text": [
      "1270 2003 69 5037 8\n"
     ]
    }
   ],
   "source": [
    "def convert_to_integer(a, b = None):\n",
    "    # Convert string with comma or other non-numbers to integer \n",
    "    # a: STR field descriptor\n",
    "    # b: STR string to convert\n",
    "    # returns: INT\n",
    "    if b is not None:\n",
    "        b = int(re.sub(\"\\D\", \"\", b))\n",
    "        return b\n",
    "    else:\n",
    "        raise Exception(\"No \" + a + \" Found!\")\n",
    "\n",
    "def profile_info(username)\n",
    "    # Returns the user stats and thumbnail html from the username\n",
    "    # a: soundcloud username\n",
    "    # returns: INT followers, following, tracks, likes, comments, STR thumbnail\n",
    "driver.get('https://soundcloud.com/' + username)\n",
    "\n",
    "a = driver.find_element_by_xpath(\"//*[starts-with(@class,'infoStats__stat')]//*[text()='Followers']//following::div\")\n",
    "b = driver.find_element_by_xpath(\"//*[starts-with(@class,'infoStats__stat')]//*[text()='Following']//following::div\")\n",
    "c = driver.find_element_by_xpath(\"//*[starts-with(@class,'infoStats__stat')]//*[text()='Tracks']//following::div\")\n",
    "d = driver.find_element_by_xpath(\"//*[starts-with(@class,'sidebarHeader') and contains(text(), 'likes')]\")\n",
    "e = driver.find_element_by_xpath(\"//*[starts-with(@class,'sidebarHeader') and contains(text(), 'comments')]\")\n",
    "\n",
    "followers = convert_to_integer('followers', a.text)\n",
    "following = convert_to_integer('following', b.text)\n",
    "tracks = convert_to_integer('tracks', c.text)\n",
    "likes = convert_to_integer('likes', d.text)\n",
    "comments = convert_to_integer('comments', e.text)\n",
    "\n",
    "print(followers, following, tracks, likes, comments)"
   ]
  },
  {
   "cell_type": "code",
   "execution_count": 304,
   "metadata": {},
   "outputs": [
    {
     "name": "stdout",
     "output_type": "stream",
     "text": [
      "Retrieved:  1996\n"
     ]
    }
   ],
   "source": [
    "# Scroll to the end for infinite dynamic scrolling\n",
    "SCROLL_PAUSE_TIME = 0.5\n",
    "DELTA = 20\n",
    "driver.get('https://soundcloud.com/' + SC_USERNAME + '/following')\n",
    "\n",
    "# Get scroll height\n",
    "last_height = driver.execute_script(\"return document.body.scrollHeight\")\n",
    "# Loop if new scroll height is not equal to current scroll height or elements on page < following minus delta\n",
    "while True:\n",
    "    # Display count of loaded profiles\n",
    "    clear_output(wait = True)\n",
    "    print(\"Retrieved: \", len(driver.find_elements_by_xpath(\"//div[@class='userBadgeListItem']\")))\n",
    "    # Scroll down to bottom\n",
    "    driver.execute_script(\"window.scrollTo(0, document.body.scrollHeight);\")\n",
    "    # Wait to load page\n",
    "    sleep(SCROLL_PAUSE_TIME)\n",
    "    # Calculate new scroll height and compare with last scroll height\n",
    "    new_height = driver.execute_script(\"return document.body.scrollHeight\")\n",
    "    if (new_height == last_height) and (len(driver.find_elements_by_xpath(\"//div[@class='userBadgeListItem']\")) > (following - DELTA)):\n",
    "        break\n",
    "    last_height = new_height"
   ]
  },
  {
   "cell_type": "code",
   "execution_count": 54,
   "metadata": {},
   "outputs": [],
   "source": [
    "string1='https://i1.sndcdn.com/avatars-000269266647-jbb5ta-t200x200.jpg'"
   ]
  },
  {
   "cell_type": "code",
   "execution_count": 52,
   "metadata": {},
   "outputs": [
    {
     "ename": "FileNotFoundError",
     "evalue": "[Errno 2] No such file or directory: 'image/avatars-000269266647-jbb5ta-t200x200.jpg'",
     "output_type": "error",
     "traceback": [
      "\u001b[0;31m----------------------------------------------------------\u001b[0m",
      "\u001b[0;31mFileNotFoundError\u001b[0m        Traceback (most recent call last)",
      "\u001b[0;32m<ipython-input-52-6042bf875718>\u001b[0m in \u001b[0;36m<module>\u001b[0;34m()\u001b[0m\n\u001b[0;32m----> 1\u001b[0;31m \u001b[0murllib\u001b[0m\u001b[0;34m.\u001b[0m\u001b[0mrequest\u001b[0m\u001b[0;34m.\u001b[0m\u001b[0murlretrieve\u001b[0m\u001b[0;34m(\u001b[0m\u001b[0;34m'https://i1.sndcdn.com/avatars-000269266647-jbb5ta-t200x200.jpg'\u001b[0m\u001b[0;34m,\u001b[0m \u001b[0;34m'image/avatars-000269266647-jbb5ta-t200x200.jpg'\u001b[0m\u001b[0;34m)\u001b[0m\u001b[0;34m\u001b[0m\u001b[0m\n\u001b[0m",
      "\u001b[0;32m/usr/lib/python3.6/urllib/request.py\u001b[0m in \u001b[0;36murlretrieve\u001b[0;34m(url, filename, reporthook, data)\u001b[0m\n\u001b[1;32m    256\u001b[0m         \u001b[0;31m# Handle temporary file setup.\u001b[0m\u001b[0;34m\u001b[0m\u001b[0;34m\u001b[0m\u001b[0m\n\u001b[1;32m    257\u001b[0m         \u001b[0;32mif\u001b[0m \u001b[0mfilename\u001b[0m\u001b[0;34m:\u001b[0m\u001b[0;34m\u001b[0m\u001b[0m\n\u001b[0;32m--> 258\u001b[0;31m             \u001b[0mtfp\u001b[0m \u001b[0;34m=\u001b[0m \u001b[0mopen\u001b[0m\u001b[0;34m(\u001b[0m\u001b[0mfilename\u001b[0m\u001b[0;34m,\u001b[0m \u001b[0;34m'wb'\u001b[0m\u001b[0;34m)\u001b[0m\u001b[0;34m\u001b[0m\u001b[0m\n\u001b[0m\u001b[1;32m    259\u001b[0m         \u001b[0;32melse\u001b[0m\u001b[0;34m:\u001b[0m\u001b[0;34m\u001b[0m\u001b[0m\n\u001b[1;32m    260\u001b[0m             \u001b[0mtfp\u001b[0m \u001b[0;34m=\u001b[0m \u001b[0mtempfile\u001b[0m\u001b[0;34m.\u001b[0m\u001b[0mNamedTemporaryFile\u001b[0m\u001b[0;34m(\u001b[0m\u001b[0mdelete\u001b[0m\u001b[0;34m=\u001b[0m\u001b[0;32mFalse\u001b[0m\u001b[0;34m)\u001b[0m\u001b[0;34m\u001b[0m\u001b[0m\n",
      "\u001b[0;31mFileNotFoundError\u001b[0m: [Errno 2] No such file or directory: 'image/avatars-000269266647-jbb5ta-t200x200.jpg'"
     ]
    }
   ],
   "source": [
    "urllib.request.urlretrieve('https://i1.sndcdn.com/avatars-000269266647-jbb5ta-t200x200.jpg', 'image/avatars-000269266647-jbb5ta-t200x200.jpg')"
   ]
  },
  {
   "cell_type": "code",
   "execution_count": 55,
   "metadata": {},
   "outputs": [
    {
     "name": "stdout",
     "output_type": "stream",
     "text": [
      "TEST glut_it https://i1.sndcdn.com/avatars-000269266647-jbb5ta-t200x200.jpg\n"
     ]
    }
   ],
   "source": [
    "print(\"TEST {} {}\".format(SC_USERNAME, string1))"
   ]
  },
  {
   "cell_type": "code",
   "execution_count": 19,
   "metadata": {},
   "outputs": [
    {
     "ename": "SyntaxError",
     "evalue": "invalid syntax (<ipython-input-19-4eb4f5d8a969>, line 4)",
     "output_type": "error",
     "traceback": [
      "\u001b[0;36m  File \u001b[0;32m\"<ipython-input-19-4eb4f5d8a969>\"\u001b[0;36m, line \u001b[0;32m4\u001b[0m\n\u001b[0;31m    assert len(profile) = len(image)\u001b[0m\n\u001b[0m                        ^\u001b[0m\n\u001b[0;31mSyntaxError\u001b[0m\u001b[0;31m:\u001b[0m invalid syntax\n"
     ]
    }
   ],
   "source": [
    "# Returns webdriver elements for required info\n",
    "profile = driver.find_elements_by_xpath(\"//div[@class='userNetwork']//a[starts-with(@class,'userBadgeListItem__heading')]\")\n",
    "image = driver.find_elements_by_xpath(\"//div[@class='userNetwork']//span[starts-with(@class,'sc-artwork')]\")\n",
    "# Do not continue if the profile and image is of different size\n",
    "assert len(profile) == len(image)\n",
    "\n",
    "now = strftime('%Y-%m-%d %H:%M:%S')\n",
    "\n",
    "# Returns dataframe from webdriver with text info\n",
    "temp1, temp2, temp3 = [], [], []\n",
    "\n",
    "# Create folder if not exists\n",
    "try:\n",
    "    os.makedirs(SC_USERNAME)\n",
    "except:    \n",
    "\n",
    "# Returns html for profile thumbnail\n",
    "for x in range(len(image)):\n",
    "    # Error check if there is thumbnail\n",
    "    if 'url' in image[x].get_attribute('style'):\n",
    "        temp1.append((image[x].get_attribute('style')).split('\"')[1])\n",
    "        # Download the thumbnail\n",
    "        request.urlretrieve((image[x].get_attribute('style')).split('\"')[1], )\n",
    "    else:\n",
    "        temp1.append(None)\n",
    "    # Returns username and profile html\n",
    "    temp2.append(profile[x].text)\n",
    "    temp3.append(profile[x].get_attribute('href'))\n",
    "# Convert list to DataFrame    \n",
    "df = pd.DataFrame({'image-url':temp1, 'username':temp2, 'profile':temp3})\n",
    "\n",
    "# Export to CSV\n",
    "df.to_csv(now + ' ' + SC_USERNAME + ' following.csv', index=True, header=True)#, mode='a')"
   ]
  },
  {
   "cell_type": "code",
   "execution_count": 281,
   "metadata": {},
   "outputs": [],
   "source": [
    "Image(\"https://i1.sndcdn.com/avatars-000395181261-hfn1rr-t200x200.jpg\")"
   ]
  },
  {
   "cell_type": "code",
   "execution_count": 21,
   "metadata": {},
   "outputs": [],
   "source": [
    "# Close the webdriver session\n",
    "driver.close()"
   ]
  },
  {
   "cell_type": "code",
   "execution_count": null,
   "metadata": {},
   "outputs": [],
   "source": []
  }
 ],
 "metadata": {
  "kernelspec": {
   "display_name": "Python 3",
   "language": "python",
   "name": "python3"
  },
  "language_info": {
   "codemirror_mode": {
    "name": "ipython",
    "version": 3
   },
   "file_extension": ".py",
   "mimetype": "text/x-python",
   "name": "python",
   "nbconvert_exporter": "python",
   "pygments_lexer": "ipython3",
   "version": "3.6.6"
  }
 },
 "nbformat": 4,
 "nbformat_minor": 2
}
